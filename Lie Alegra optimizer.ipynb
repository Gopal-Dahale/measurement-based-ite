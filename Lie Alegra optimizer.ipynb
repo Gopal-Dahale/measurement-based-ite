{
 "cells": [
  {
   "cell_type": "code",
   "execution_count": 1,
   "id": "066c239c",
   "metadata": {},
   "outputs": [],
   "source": [
    "import numpy as np\n",
    "import matplotlib.pyplot as plt\n",
    "import pennylane as qml\n",
    "import pennylane.numpy as np\n",
    "from qiskit.quantum_info import SparsePauliOp\n",
    "from qiskit.opflow.primitive_ops import PauliSumOp\n",
    "from qiskit.algorithms import NumPyEigensolver\n",
    "from time import time"
   ]
  },
  {
   "cell_type": "markdown",
   "id": "f787805d",
   "metadata": {},
   "source": [
    "## Ham Z"
   ]
  },
  {
   "cell_type": "code",
   "execution_count": 2,
   "id": "068a3e1d",
   "metadata": {},
   "outputs": [
    {
     "name": "stdout",
     "output_type": "stream",
     "text": [
      "[-1.  1.]\n"
     ]
    },
    {
     "data": {
      "text/plain": [
       "-1.0"
      ]
     },
     "execution_count": 2,
     "metadata": {},
     "output_type": "execute_result"
    }
   ],
   "source": [
    "ham = PauliSumOp(SparsePauliOp([\"Z\"], [1.0]))\n",
    "\n",
    "# find the eigenvalue\n",
    "exact_solver = NumPyEigensolver(k=2)\n",
    "exact_result = exact_solver.compute_eigenvalues(ham)\n",
    "print(np.round(exact_result.eigenvalues.real, 4))\n",
    "\n",
    "# Save ground state energy for later\n",
    "gs_energy = np.round(exact_result.eigenvalues[0], 4).real\n",
    "gs_energy"
   ]
  },
  {
   "cell_type": "code",
   "execution_count": 3,
   "id": "89d7f8d3",
   "metadata": {},
   "outputs": [
    {
     "name": "stdout",
     "output_type": "stream",
     "text": [
      "  (1.0) [Z0]\n"
     ]
    }
   ],
   "source": [
    "ham = qml.Hamiltonian([1.0], [qml.PauliZ(0)])\n",
    "print(ham)"
   ]
  },
  {
   "cell_type": "code",
   "execution_count": 4,
   "id": "341814ac",
   "metadata": {},
   "outputs": [],
   "source": [
    "@qml.qnode(qml.device(\"default.qubit\", wires=1))\n",
    "def quant_fun():\n",
    "    qml.RY(0.1, wires=[0])\n",
    "    qml.RZ(0.1, wires=[0])\n",
    "    return qml.expval(ham)"
   ]
  },
  {
   "cell_type": "code",
   "execution_count": 5,
   "id": "28cb566f",
   "metadata": {},
   "outputs": [],
   "source": [
    "opt = qml.LieAlgebraOptimizer(circuit=quant_fun, stepsize=0.1)"
   ]
  },
  {
   "cell_type": "code",
   "execution_count": 6,
   "id": "d6893d7f",
   "metadata": {
    "scrolled": false
   },
   "outputs": [
    {
     "name": "stdout",
     "output_type": "stream",
     "text": [
      "Step 0 - cost 0.9950041652780259\n",
      "Step 1 - cost 0.9902253068524046\n",
      "Step 2 - cost 0.9809071668284195\n",
      "Step 3 - cost 0.9628277534405488\n",
      "Step 4 - cost 0.9280856228289838\n",
      "Step 5 - cost 0.86255462586615\n",
      "Step 6 - cost 0.7432571413480762\n",
      "Step 7 - cost 0.5399335354743116\n",
      "Step 8 - cost 0.23162653487718932\n",
      "Step 9 - cost -0.15462075492910926\n",
      "Step 10 - cost -0.5229223112965148\n",
      "Step 11 - cost -0.7777700266019967\n",
      "Step 12 - cost -0.9096650664249515\n",
      "Step 13 - cost -0.9658224396685353\n",
      "Step 14 - cost -0.9874618733411683\n",
      "Step 15 - cost -0.9954549077684967\n",
      "Step 16 - cost -0.9983596523739606\n",
      "Step 17 - cost -0.9994089392895383\n",
      "Step 18 - cost -0.999787148625411\n",
      "Step 19 - cost -0.9999233644903881\n"
     ]
    }
   ],
   "source": [
    "for step in range(20):\n",
    "    circuit, cost = opt.step_and_cost()\n",
    "    print(f\"Step {step} - cost {cost}\")"
   ]
  },
  {
   "cell_type": "code",
   "execution_count": 7,
   "id": "bccea3c1",
   "metadata": {},
   "outputs": [
    {
     "data": {
      "text/plain": [
       "tensor(-0.99997241, requires_grad=True)"
      ]
     },
     "execution_count": 7,
     "metadata": {},
     "output_type": "execute_result"
    }
   ],
   "source": [
    "circuit()"
   ]
  },
  {
   "cell_type": "code",
   "execution_count": 8,
   "id": "fec5df7a",
   "metadata": {
    "scrolled": false
   },
   "outputs": [
    {
     "name": "stdout",
     "output_type": "stream",
     "text": [
      "0: ──RY(0.10)──RZ(0.10)──ApproxTimeEvolution(0.00,0.00,-0.02,0.20,0.10)\n",
      "\n",
      "───ApproxTimeEvolution(-0.03,0.28,0.10)──ApproxTimeEvolution(0.00,0.00,-0.04,0.39,0.10)\n",
      "\n",
      "───ApproxTimeEvolution(0.00,-0.00,-0.05,0.54,0.10)──ApproxTimeEvolution(-0.08,0.74,0.10)\n",
      "\n",
      "───ApproxTimeEvolution(0.00,0.00,-0.10,1.01,0.10)──ApproxTimeEvolution(-0.14,1.33,0.10)\n",
      "\n",
      "───ApproxTimeEvolution(-0.18,1.67,0.10)──ApproxTimeEvolution(0.00,0.00,-0.22,1.93,0.10)\n",
      "\n",
      "───ApproxTimeEvolution(-0.24,1.96,0.10)──ApproxTimeEvolution(-0.22,1.69,0.10)\n",
      "\n",
      "───ApproxTimeEvolution(-0.00,-0.00,-0.18,1.24,0.10)──ApproxTimeEvolution(-0.12,0.82,0.10)\n",
      "\n",
      "───ApproxTimeEvolution(-0.08,0.51,0.10)──ApproxTimeEvolution(0.00,-0.00,-0.05,0.31,0.10)\n",
      "\n",
      "───ApproxTimeEvolution(0.00,-0.00,-0.03,0.19,0.10)──ApproxTimeEvolution(0.00,-0.00,-0.02,0.11,0.10)\n",
      "\n",
      "───ApproxTimeEvolution(0.00,-0.00,-0.01,0.07,0.10)──ApproxTimeEvolution(-0.01,0.04,0.10)\n",
      "\n",
      "───ApproxTimeEvolution(0.00,-0.00,-0.00,0.02,0.10)─┤  <𝓗(1.00)>\n"
     ]
    }
   ],
   "source": [
    "print(qml.draw(circuit)())"
   ]
  },
  {
   "cell_type": "markdown",
   "id": "ce979c1b",
   "metadata": {},
   "source": [
    "## TFIM (closed loop)"
   ]
  },
  {
   "cell_type": "code",
   "execution_count": 9,
   "id": "eea75d6f",
   "metadata": {},
   "outputs": [],
   "source": [
    "def get_gs_energy(lmbd, zz_coeff, n_qubits):\n",
    "    ops = []\n",
    "    coeffs = []\n",
    "\n",
    "    id_op = ['I']*n_qubits\n",
    "\n",
    "    for i in range(n_qubits):\n",
    "        temp_op = id_op.copy()\n",
    "        temp_op[i] = 'X'\n",
    "        ops.append(''.join(temp_op))\n",
    "        coeffs.append(lmbd)\n",
    "\n",
    "    for i in range(n_qubits-1):\n",
    "        temp_op = id_op.copy()\n",
    "        temp_op[i] = 'Z'\n",
    "        temp_op[i+1] = 'Z'\n",
    "        ops.append(''.join(temp_op))\n",
    "        coeffs.append(zz_coeff)\n",
    "\n",
    "    # closed loop\n",
    "    if n_qubits > 1:\n",
    "        temp_op = id_op.copy()\n",
    "        temp_op[n_qubits-1] = 'Z'\n",
    "        temp_op[0] = 'Z'\n",
    "        ops.append(''.join(temp_op))\n",
    "        coeffs.append(zz_coeff)\n",
    "\n",
    "    ham = PauliSumOp(SparsePauliOp(ops, coeffs))\n",
    "\n",
    "    # find the eigenvalue\n",
    "    exact_solver = NumPyEigensolver(k=3)\n",
    "    exact_result = exact_solver.compute_eigenvalues(ham)\n",
    "\n",
    "    # Save ground state energy for later\n",
    "    gs_energy = np.round(exact_result.eigenvalues[0], 4).real\n",
    "    \n",
    "    return gs_energy"
   ]
  },
  {
   "cell_type": "code",
   "execution_count": 10,
   "id": "03a1d0c0",
   "metadata": {},
   "outputs": [],
   "source": [
    "def get_tfim_hamiltonian(lmbd, zz_coeff, n_qubits):\n",
    "    ops = []\n",
    "    coeffs = []\n",
    "\n",
    "    for i in range(n_qubits):\n",
    "        ops.append(qml.PauliX(i))\n",
    "        coeffs.append(lmbd)\n",
    "\n",
    "    for i in range(n_qubits-1):\n",
    "        ops.append(qml.PauliZ(i)@qml.PauliZ(i+1))\n",
    "        coeffs.append(zz_coeff)\n",
    "\n",
    "    # closed loop\n",
    "    if n_qubits > 1:\n",
    "        ops.append(qml.PauliZ(n_qubits-1)@qml.PauliZ(0))\n",
    "        coeffs.append(zz_coeff)\n",
    "\n",
    "    H_tfim = qml.Hamiltonian(coeffs, ops)\n",
    "    \n",
    "    return H_tfim"
   ]
  },
  {
   "cell_type": "code",
   "execution_count": 11,
   "id": "2887235b",
   "metadata": {},
   "outputs": [],
   "source": [
    "lmbd = -1.0\n",
    "zz_coeff = -1.0\n",
    "L = 1"
   ]
  },
  {
   "cell_type": "code",
   "execution_count": 12,
   "id": "e22ddee4",
   "metadata": {},
   "outputs": [
    {
     "name": "stdout",
     "output_type": "stream",
     "text": [
      "Ground state energy: -1.0\n",
      "  (-1.0) [X0]\n"
     ]
    }
   ],
   "source": [
    "gs_energy = get_gs_energy(lmbd, zz_coeff, L)\n",
    "print(\"Ground state energy:\", gs_energy)\n",
    "\n",
    "ham = get_tfim_hamiltonian(lmbd, zz_coeff, L)\n",
    "print(ham)"
   ]
  },
  {
   "cell_type": "code",
   "execution_count": 13,
   "id": "20295508",
   "metadata": {},
   "outputs": [],
   "source": [
    "def quant_fun():\n",
    "    for i in range(L):\n",
    "        qml.RY(0.1, wires=[i])\n",
    "        qml.RZ(0.1, wires=[i])\n",
    "    return qml.expval(ham)"
   ]
  },
  {
   "cell_type": "code",
   "execution_count": 14,
   "id": "016cdbc8",
   "metadata": {},
   "outputs": [
    {
     "name": "stdout",
     "output_type": "stream",
     "text": [
      "0: ──RY(0.10)──RZ(0.10)─┤  <𝓗(-1.00)>\n"
     ]
    }
   ],
   "source": [
    "qnode = qml.QNode(quant_fun, device = qml.device('default.qubit', wires = L))\n",
    "print(qml.draw(qnode)())\n",
    "opt = qml.LieAlgebraOptimizer(circuit=qnode, stepsize=0.1)"
   ]
  },
  {
   "cell_type": "code",
   "execution_count": 15,
   "id": "1b57f1f6",
   "metadata": {},
   "outputs": [
    {
     "name": "stdout",
     "output_type": "stream",
     "text": [
      "Step 0 - cost -0.09933466539753062\n",
      "Step 1 - cost -0.4772470126341423\n",
      "Step 2 - cost -0.7506372416693825\n",
      "Step 3 - cost -0.8971662287572422\n",
      "Step 4 - cost -0.9608318752060236\n",
      "Step 5 - cost -0.9855923626395303\n",
      "Step 6 - cost -0.994771930291095\n",
      "Step 7 - cost -0.9981124655143226\n",
      "Step 8 - cost -0.9993197804093826\n",
      "Step 9 - cost -0.9997550291318096\n",
      "Duration: 0.3330390453338623\n"
     ]
    }
   ],
   "source": [
    "s = time()\n",
    "\n",
    "for step in range(10):\n",
    "    circuit, cost = opt.step_and_cost()\n",
    "    print(f\"Step {step} - cost {cost}\")\n",
    "    \n",
    "e = time()\n",
    "print(\"Duration:\", e - s)"
   ]
  },
  {
   "cell_type": "code",
   "execution_count": 16,
   "id": "62f46d29",
   "metadata": {},
   "outputs": [
    {
     "name": "stdout",
     "output_type": "stream",
     "text": [
      "Ground state energy: -2.8284\n",
      "  (-1.0) [X0]\n",
      "+ (-1.0) [X1]\n",
      "+ (-1.0) [Z0 Z1]\n",
      "+ (-1.0) [Z1 Z0]\n"
     ]
    }
   ],
   "source": [
    "L = 2\n",
    "\n",
    "gs_energy = get_gs_energy(lmbd, zz_coeff, L)\n",
    "print(\"Ground state energy:\", gs_energy)\n",
    "\n",
    "ham = get_tfim_hamiltonian(lmbd, zz_coeff, L)\n",
    "print(ham)"
   ]
  },
  {
   "cell_type": "code",
   "execution_count": 17,
   "id": "c32990b4",
   "metadata": {},
   "outputs": [
    {
     "name": "stdout",
     "output_type": "stream",
     "text": [
      "0: ──RY(0.10)──RZ(0.10)─┤ ╭<𝓗>\n",
      "1: ──RY(0.10)──RZ(0.10)─┤ ╰<𝓗>\n"
     ]
    }
   ],
   "source": [
    "qnode = qml.QNode(quant_fun, device = qml.device('default.qubit', wires = L))\n",
    "print(qml.draw(qnode)())\n",
    "opt = qml.LieAlgebraOptimizer(circuit=qnode, stepsize=0.1)"
   ]
  },
  {
   "cell_type": "code",
   "execution_count": 18,
   "id": "2ba475e8",
   "metadata": {},
   "outputs": [
    {
     "name": "stdout",
     "output_type": "stream",
     "text": [
      "Step 0 - cost -2.178735908636304\n",
      "Step 1 - cost -2.2906178314130297\n",
      "Step 2 - cost -2.3923042765779674\n",
      "Step 3 - cost -2.4006665195292314\n",
      "Step 4 - cost -2.3733377897199626\n",
      "Step 5 - cost -2.284737718942023\n",
      "Step 6 - cost -2.1874237464630992\n",
      "Step 7 - cost -2.0847870955482968\n",
      "Step 8 - cost -2.0052742258041185\n",
      "Step 9 - cost -1.9472791158762137\n",
      "Step 10 - cost -1.9120103468033331\n",
      "Step 11 - cost -1.8911075172089251\n",
      "Step 12 - cost -1.8797902044906116\n",
      "Step 13 - cost -1.8736336768308002\n",
      "Step 14 - cost -1.8704280555915291\n",
      "Step 15 - cost -1.8687271606033908\n",
      "Step 16 - cost -1.8678648109442348\n",
      "Step 17 - cost -1.8673983591173546\n",
      "Step 18 - cost -1.8671816760593747\n",
      "Step 19 - cost -1.8670460417587809\n",
      "Duration: 60.05732274055481\n"
     ]
    }
   ],
   "source": [
    "s = time()\n",
    "\n",
    "for step in range(20):\n",
    "    circuit, cost = opt.step_and_cost()\n",
    "    print(f\"Step {step} - cost {cost}\")\n",
    "    \n",
    "e = time()\n",
    "print(\"Duration:\", e - s)"
   ]
  },
  {
   "cell_type": "code",
   "execution_count": 19,
   "id": "9f63d3d7",
   "metadata": {},
   "outputs": [
    {
     "name": "stdout",
     "output_type": "stream",
     "text": [
      "Ground state energy: -4.0\n",
      "  (-1.0) [X0]\n",
      "+ (-1.0) [X1]\n",
      "+ (-1.0) [X2]\n",
      "+ (-1.0) [Z0 Z1]\n",
      "+ (-1.0) [Z1 Z2]\n",
      "+ (-1.0) [Z2 Z0]\n"
     ]
    }
   ],
   "source": [
    "L = 3\n",
    "\n",
    "gs_energy = get_gs_energy(lmbd, zz_coeff, L)\n",
    "print(\"Ground state energy:\", gs_energy)\n",
    "\n",
    "ham = get_tfim_hamiltonian(lmbd, zz_coeff, L)\n",
    "print(ham)"
   ]
  },
  {
   "cell_type": "code",
   "execution_count": 20,
   "id": "7fadde6e",
   "metadata": {},
   "outputs": [
    {
     "name": "stdout",
     "output_type": "stream",
     "text": [
      "0: ──RY(0.10)──RZ(0.10)─┤ ╭<𝓗>\n",
      "1: ──RY(0.10)──RZ(0.10)─┤ ├<𝓗>\n",
      "2: ──RY(0.10)──RZ(0.10)─┤ ╰<𝓗>\n"
     ]
    }
   ],
   "source": [
    "qnode = qml.QNode(quant_fun, device = qml.device('default.qubit', wires = L))\n",
    "print(qml.draw(qnode)())\n",
    "opt = qml.LieAlgebraOptimizer(circuit=qnode, stepsize=0.1)"
   ]
  },
  {
   "cell_type": "code",
   "execution_count": 21,
   "id": "66e18a5f",
   "metadata": {},
   "outputs": [
    {
     "name": "stdout",
     "output_type": "stream",
     "text": [
      "Step 0 - cost -3.2681038629544554\n",
      "Step 1 - cost -1.384944029642587\n",
      "Step 2 - cost 0.8272670196341178\n",
      "Step 3 - cost -0.8430233738678137\n",
      "Step 4 - cost 1.6293015809366371\n",
      "Step 5 - cost -1.3663460769554898\n",
      "Step 6 - cost 1.6499223958953553\n",
      "Step 7 - cost -1.7248770183018012\n",
      "Step 8 - cost 1.1165999197813208\n",
      "Step 9 - cost -1.5151591139298974\n",
      "Step 10 - cost 1.154354309607117\n",
      "Step 11 - cost -1.7249816988188953\n",
      "Step 12 - cost -0.2609236292002369\n",
      "Step 13 - cost 0.8487639368683261\n",
      "Step 14 - cost 0.4129512995277144\n",
      "Step 15 - cost -0.5174275704313136\n",
      "Step 16 - cost 0.9084859816584332\n",
      "Step 17 - cost -2.4328158803320528\n",
      "Step 18 - cost 0.11859881565101048\n",
      "Step 19 - cost 1.202530316520938\n",
      "Duration: 2952.720009803772\n"
     ]
    }
   ],
   "source": [
    "s = time()\n",
    "\n",
    "for step in range(20):\n",
    "    circuit, cost = opt.step_and_cost()\n",
    "    print(f\"Step {step} - cost {cost}\")\n",
    "    \n",
    "e = time()\n",
    "print(\"Duration:\", e - s)"
   ]
  },
  {
   "cell_type": "code",
   "execution_count": null,
   "id": "7a33a534",
   "metadata": {},
   "outputs": [],
   "source": []
  }
 ],
 "metadata": {
  "kernelspec": {
   "display_name": "Python (qosf)",
   "language": "python",
   "name": "qosf"
  },
  "language_info": {
   "codemirror_mode": {
    "name": "ipython",
    "version": 3
   },
   "file_extension": ".py",
   "mimetype": "text/x-python",
   "name": "python",
   "nbconvert_exporter": "python",
   "pygments_lexer": "ipython3",
   "version": "3.8.1"
  }
 },
 "nbformat": 4,
 "nbformat_minor": 5
}
