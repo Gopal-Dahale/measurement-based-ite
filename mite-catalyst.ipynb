{
 "cells": [
  {
   "cell_type": "code",
   "execution_count": 1,
   "id": "a81c8eea",
   "metadata": {},
   "outputs": [],
   "source": [
    "import numpy as np\n",
    "import matplotlib.pyplot as plt\n",
    "import pennylane as qml\n",
    "import pennylane.numpy as np"
   ]
  },
  {
   "cell_type": "code",
   "execution_count": 2,
   "id": "1ee1677c",
   "metadata": {},
   "outputs": [],
   "source": [
    "from catalyst import cond, measure, for_loop, qjit\n",
    "import jax; jax.config.update('jax_platform_name', 'cpu')\n",
    "from jax import numpy as jnp\n",
    "from jax import random"
   ]
  },
  {
   "cell_type": "code",
   "execution_count": 3,
   "id": "b05f3877",
   "metadata": {
    "code_folding": []
   },
   "outputs": [],
   "source": [
    "def measure_and_reset(wire):\n",
    "    \"\"\"\n",
    "    Measure a wire and then reset it back to the |0⟩ state.\n",
    "    \"\"\"\n",
    "\n",
    "    m = measure(wire)\n",
    "\n",
    "    @cond(m)\n",
    "    def conditional_flip():\n",
    "        qml.PauliX(wires=wire)\n",
    "\n",
    "    conditional_flip()\n",
    "\n",
    "    return m\n",
    "    \n",
    "def conditional_unitary(pred, wire):\n",
    "    \"\"\"Conditionally perform unitary operation based on a predicate\"\"\"\n",
    "    \n",
    "    @cond(pred)\n",
    "    def conditional_unitary():\n",
    "        qml.PauliX(wires=wire)\n",
    "    \n",
    "    conditional_unitary()\n",
    "    \n",
    "def conditional_update(x_max, m1):\n",
    "    \n",
    "    @cond(x_max < 0)\n",
    "    def conditional_fn():\n",
    "        # when the predicate is true\n",
    "        return (m1 == 0).astype(int), (m1 == 1).astype(int), (m1 != 5).astype(int), (m1 != 5).astype(int)\n",
    "\n",
    "    @conditional_fn.otherwise\n",
    "    def conditional_fn():\n",
    "        return (m1 == 5).astype(int), (m1 == 5).astype(int), (m1 == 5).astype(int), (m1 == 5).astype(int)\n",
    "    \n",
    "    return conditional_fn()  # must invoke the defined function\n",
    "\n",
    "\n",
    "def ham_z(t):\n",
    "    qml.PauliRot(2*t, 'ZY',  wires=[0,1])"
   ]
  },
  {
   "cell_type": "code",
   "execution_count": 13,
   "id": "f8c6c803",
   "metadata": {},
   "outputs": [],
   "source": [
    "dev = qml.device(\"lightning.qubit\", wires=2, shots=100)\n",
    "\n",
    "@qjit\n",
    "@qml.qnode(dev)\n",
    "def circuit(k0: int, k1: int, t: float):\n",
    "\n",
    "    def loop(i, x, kk0, kk1):\n",
    "        qml.Hadamard(1)\n",
    "        \n",
    "        ham_z(x)\n",
    "        \n",
    "        m1 = 0 + measure_and_reset(1)\n",
    "        \n",
    "        a = (m1 == 0)\n",
    "        b = (m1 == 1)\n",
    "        \n",
    "        temp_k0 = kk0 + a\n",
    "        temp_k1 = kk1 + b\n",
    "        val = (temp_k1 - temp_k0)/(temp_k0 + temp_k1)\n",
    "        x_max = 0.5*jnp.arcsin(val)\n",
    "        \n",
    "        c0, c1, b0, b1 = conditional_update(x_max, m1)\n",
    "        \n",
    "        kk0 = b0*kk0 + c0\n",
    "        kk1 = b1*kk1 + c1\n",
    "        val = (kk1 - kk0)/(kk0 + kk1 + 0.1)\n",
    "        x_max = 0.5*jnp.arcsin(val)\n",
    "                \n",
    "        syndrome = x_max >=0\n",
    "        conditional_unitary(syndrome, wire=0)\n",
    "        \n",
    "        return x, kk0, kk1\n",
    "\n",
    "    # apply the while loop\n",
    "    final_x = for_loop(0, 1, 1)(loop)(t, k0, k1)\n",
    "\n",
    "    return qml.counts(wires = [0]), final_x\n",
    "\n",
    "values = [0, 0]\n",
    "n = 1000\n",
    "for i in range(n):\n",
    "    basis_states, counts, x, k0, k1 = circuit(0, 0, 0.02)\n",
    "    fill = int(np.log2(len(basis_states)))\n",
    "    res = {bin(int(state))[2:].zfill(fill): count for state, count in zip(basis_states, counts)}\n",
    "    values[0] += res['0']\n",
    "    values[1] += res['1']\n",
    "\n",
    "values[0] /= n*100\n",
    "values[1] /= n*100"
   ]
  },
  {
   "cell_type": "code",
   "execution_count": 14,
   "id": "d48ebb0e",
   "metadata": {},
   "outputs": [
    {
     "data": {
      "text/plain": [
       "[Array(0.473, dtype=float64), Array(0.527, dtype=float64)]"
      ]
     },
     "execution_count": 14,
     "metadata": {},
     "output_type": "execute_result"
    }
   ],
   "source": [
    "values"
   ]
  },
  {
   "cell_type": "code",
   "execution_count": 15,
   "id": "29e92141",
   "metadata": {},
   "outputs": [
    {
     "data": {
      "text/plain": [
       "<BarContainer object of 2 artists>"
      ]
     },
     "execution_count": 15,
     "metadata": {},
     "output_type": "execute_result"
    },
    {
     "data": {
      "image/png": "[encoded data removed]",
      "text/plain": [
       "<Figure size 640x480 with 1 Axes>"
      ]
     },
     "metadata": {},
     "output_type": "display_data"
    }
   ],
   "source": [
    "plt.bar(height= values, x = [0,1])"
   ]
  },
  {
   "cell_type": "code",
   "execution_count": 649,
   "id": "a7923845",
   "metadata": {},
   "outputs": [
    {
     "data": {
      "text/plain": [
       "{'00': Array(50, dtype=int64),\n",
       " '01': Array(0, dtype=int64),\n",
       " '10': Array(50, dtype=int64),\n",
       " '11': Array(0, dtype=int64)}"
      ]
     },
     "execution_count": 649,
     "metadata": {},
     "output_type": "execute_result"
    }
   ],
   "source": [
    "dev = qml.device(\"lightning.qubit\", wires=2, shots=100)\n",
    "\n",
    "@qjit\n",
    "@qml.qnode(dev)\n",
    "def circuit(k0: int, k1: int, t: float):\n",
    "\n",
    "    def loop(i, x, kk0, kk1):\n",
    "        qml.Hadamard(1)\n",
    "        \n",
    "        return x, kk0, kk1\n",
    "\n",
    "    # apply the while loop\n",
    "    final_x = for_loop(0, 1, 1)(loop)(t, k0, k1)\n",
    "\n",
    "    return qml.counts(), final_x\n",
    "\n",
    "basis_states, counts, x, k0, k1 = circuit(0, 0, 0.01)\n",
    "fill = int(np.log2(len(basis_states)))\n",
    "res = {bin(int(state))[2:].zfill(fill): count for state, count in zip(basis_states, counts)}\n",
    "res"
   ]
  },
  {
   "cell_type": "code",
   "execution_count": null,
   "id": "8c739ba4",
   "metadata": {},
   "outputs": [],
   "source": []
  }
 ],
 "metadata": {
  "kernelspec": {
   "display_name": "Python (qosf)",
   "language": "python",
   "name": "qosf"
  },
  "language_info": {
   "codemirror_mode": {
    "name": "ipython",
    "version": 3
   },
   "file_extension": ".py",
   "mimetype": "text/x-python",
   "name": "python",
   "nbconvert_exporter": "python",
   "pygments_lexer": "ipython3",
   "version": "3.8.1"
  }
 },
 "nbformat": 4,
 "nbformat_minor": 5
}
